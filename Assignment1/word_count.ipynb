{
 "cells": [
  {
   "cell_type": "code",
   "execution_count": 76,
   "metadata": {},
   "outputs": [],
   "source": [
    "import sys\n",
    "from operator import itemgetter"
   ]
  },
  {
   "cell_type": "code",
   "execution_count": 77,
   "metadata": {},
   "outputs": [],
   "source": [
    "# Read data\n",
    "\n",
    "path = \"testcase/wc_data.txt\""
   ]
  },
  {
   "cell_type": "code",
   "execution_count": 78,
   "metadata": {},
   "outputs": [],
   "source": [
    "# Sorting Algorithm used to sort the output of the reducer by the key\n",
    "\n",
    "def hash_function(key):\n",
    "\n",
    "    if key[0].lower() < 'm':\n",
    "        return 0\n",
    "    else:\n",
    "        return 1"
   ]
  },
  {
   "cell_type": "code",
   "execution_count": 79,
   "metadata": {},
   "outputs": [
    {
     "name": "stdout",
     "output_type": "stream",
     "text": [
      "Mapper Output (with partition):\n",
      "I\t1\tPartition: 0\n",
      "love\t1\tPartition: 0\n",
      "drink\t1\tPartition: 0\n",
      "craft\t1\tPartition: 0\n",
      "beer\t1\tPartition: 0\n",
      "and\t1\tPartition: 0\n",
      "larger\t1\tPartition: 0\n",
      "beer\t1\tPartition: 0\n",
      "in\t1\tPartition: 0\n",
      "Taiwan\t1\tPartition: 1\n"
     ]
    }
   ],
   "source": [
    "# mapper.py\n",
    "\n",
    "mapper_output = []\n",
    "\n",
    "with open(path, 'r') as file:\n",
    "    for line in file:\n",
    "        line = line.strip()\n",
    "        words = line.split()\n",
    "        \n",
    "        for word in words:\n",
    "\n",
    "            partition = hash_function(word)\n",
    "            mapper_output.append((word, 1, partition))\n",
    "\n",
    "print(\"Mapper Output (with partition):\")\n",
    "for output in mapper_output:\n",
    "    print(f'{output[0]}\\t{output[1]}\\tPartition: {output[2]}')"
   ]
  },
  {
   "cell_type": "code",
   "execution_count": 80,
   "metadata": {},
   "outputs": [],
   "source": [
    "# Shuffle and Sort\n",
    "\n",
    "partitioned_mapper_output = {}\n",
    "\n",
    "for word, count, partition in mapper_output:\n",
    "    if partition not in partitioned_mapper_output:\n",
    "        partitioned_mapper_output[partition] = []\n",
    "    partitioned_mapper_output[partition].append((word, count))"
   ]
  },
  {
   "cell_type": "code",
   "execution_count": 81,
   "metadata": {},
   "outputs": [],
   "source": [
    "# Sort by word (key) across partitions\n",
    "sorted_output = []\n",
    "for partition in partitioned_mapper_output:\n",
    "    partitioned_mapper_output[partition].sort(key=itemgetter(0))\n",
    "    sorted_output.extend(partitioned_mapper_output[partition])\n",
    "\n",
    "# Sort the final combined output by the word\n",
    "sorted_output.sort(key=itemgetter(0))"
   ]
  },
  {
   "cell_type": "code",
   "execution_count": 82,
   "metadata": {},
   "outputs": [
    {
     "name": "stdout",
     "output_type": "stream",
     "text": [
      "\n",
      "Reducer Output:\n",
      "I\t1\n",
      "Taiwan\t1\n",
      "and\t1\n",
      "beer\t2\n",
      "craft\t1\n",
      "drink\t1\n",
      "in\t1\n",
      "larger\t1\n",
      "love\t1\n"
     ]
    }
   ],
   "source": [
    "# Reducer\n",
    "\n",
    "print(\"\\nReducer Output:\")\n",
    "current_word = None\n",
    "current_count = 0\n",
    "\n",
    "for word, count in sorted_output:\n",
    "    if current_word == word:\n",
    "        current_count += count\n",
    "    else:\n",
    "        if current_word:\n",
    "            print(f'{current_word}\\t{current_count}')\n",
    "        current_count = count\n",
    "        current_word = word\n",
    "\n",
    "# Print the last word count\n",
    "if current_word == word:\n",
    "    print(f'{current_word}\\t{current_count}')"
   ]
  }
 ],
 "metadata": {
  "kernelspec": {
   "display_name": "BigData",
   "language": "python",
   "name": "python3"
  },
  "language_info": {
   "codemirror_mode": {
    "name": "ipython",
    "version": 3
   },
   "file_extension": ".py",
   "mimetype": "text/x-python",
   "name": "python",
   "nbconvert_exporter": "python",
   "pygments_lexer": "ipython3",
   "version": "3.9.20"
  }
 },
 "nbformat": 4,
 "nbformat_minor": 2
}
